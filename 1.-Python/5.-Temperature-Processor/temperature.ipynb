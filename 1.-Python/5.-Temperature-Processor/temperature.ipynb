{
 "cells": [
  {
   "cell_type": "markdown",
   "metadata": {},
   "source": [
    "<img src=\"https://bit.ly/2VnXWr2\" width=\"100\" align=\"left\">"
   ]
  },
  {
   "cell_type": "markdown",
   "metadata": {},
   "source": [
    "# Temperature Sensor\n",
    "\n",
    "There is a temperature sensor in the processor of your company's server. The company wants to analyze the data provided by the sensor to decide if they should change the cooling system for a better one. As changing the cooling system is expensive and you are an excellent data analyst, you can't make a decision without basis.\n",
    "\n",
    "## Tools\n",
    "You don't necessarily need to use all the tools. Maybe you opt to use some of them or completely different ones, they are given to help you shape the exercise. Programming exercises can be solved in many different ways.\n",
    "1. Data structures: **lists**\n",
    "2. Loops: **list comprehension**\n",
    "3. Functions: **min, max, print, len**\n",
    "4. Conditional statements: **if-elif-else**\n",
    "\n",
    "## Tasks\n",
    "The temperatures measured throughout the 24 hours of a day are:"
   ]
  },
  {
   "cell_type": "code",
   "execution_count": 93,
   "metadata": {},
   "outputs": [],
   "source": [
    "temperatures_C = [33, 66, 65, 0, 59, 60, 62, 64, 70, 76, 80, 81, 80, 83, 90, 79, 61, 53, 50, 49, 53, 48, 45, 39]"
   ]
  },
  {
   "cell_type": "markdown",
   "metadata": {},
   "source": [
    "The first element of the list is the temperature at 12am, the second element is the temperature at 1am, and so on. \n",
    "\n",
    "The company has decided that if one of the following events occurs, then the cooling system needs to be replaced for a new one to avoid damaging the processor.\n",
    "* More than 4 temperatures are greater than or equal to 70ºC.\n",
    "* Any temperature is above 80ºC.\n",
    "* The average temperature exceeds 65ºC.\n",
    "\n",
    "Follow the steps so that you can make the decision.\n",
    "\n",
    "#### 1. Find the minimum temperature of the day and store it in a variable."
   ]
  },
  {
   "cell_type": "code",
   "execution_count": 94,
   "metadata": {},
   "outputs": [
    {
     "name": "stdout",
     "output_type": "stream",
     "text": [
      "0\n"
     ]
    }
   ],
   "source": [
    "min_temp = min(temperatures_C)\n",
    "print(min_temp)"
   ]
  },
  {
   "cell_type": "markdown",
   "metadata": {},
   "source": [
    "#### 2. Find the maximum temperature of the day and store it in a variable."
   ]
  },
  {
   "cell_type": "code",
   "execution_count": 95,
   "metadata": {},
   "outputs": [
    {
     "name": "stdout",
     "output_type": "stream",
     "text": [
      "90\n"
     ]
    }
   ],
   "source": [
    "max_temp = max(temperatures_C)\n",
    "print(max_temp)"
   ]
  },
  {
   "cell_type": "markdown",
   "metadata": {},
   "source": [
    "#### 3. Create a list with the temperatures that are greater than or equal to 70ºC. Store it in a variable."
   ]
  },
  {
   "cell_type": "code",
   "execution_count": 96,
   "metadata": {},
   "outputs": [
    {
     "name": "stdout",
     "output_type": "stream",
     "text": [
      "[70, 76, 80, 81, 80, 83, 90, 79]\n"
     ]
    }
   ],
   "source": [
    "temps_over_70 = []\n",
    "for i in temperatures_C:\n",
    "    if i >= 70:\n",
    "        temps_over_70.append(i)\n",
    "\n",
    "print(temps_over_70)"
   ]
  },
  {
   "cell_type": "markdown",
   "metadata": {},
   "source": [
    "#### 4. Find the average temperature of the day and store it in a variable."
   ]
  },
  {
   "cell_type": "code",
   "execution_count": 97,
   "metadata": {},
   "outputs": [
    {
     "name": "stdout",
     "output_type": "stream",
     "text": [
      "60.25\n"
     ]
    }
   ],
   "source": [
    "#need to sum all temps in the list\n",
    "cumulative_temp = 0\n",
    "\n",
    "for i in temperatures_C:\n",
    "    cumulative_temp += i\n",
    "\n",
    "avg_temp = cumulative_temp / len(temperatures_C)\n",
    "print(avg_temp)"
   ]
  },
  {
   "cell_type": "markdown",
   "metadata": {},
   "source": [
    "#### 5. Imagine that there was a sensor failure at 3am and the data for that specific hour was not recorded. How would you estimate the missing value? Replace the current value of the list at 3am for an estimation. "
   ]
  },
  {
   "cell_type": "code",
   "execution_count": 99,
   "metadata": {},
   "outputs": [
    {
     "name": "stdout",
     "output_type": "stream",
     "text": [
      "[33, 66, 65, 62, 59, 60, 62, 64, 70, 76, 80, 81, 80, 83, 90, 79, 61, 53, 50, 49, 53, 48, 45, 39]\n"
     ]
    }
   ],
   "source": [
    "#have read about different methods online (mean, mode, median) - however given its for temp I decided for \n",
    "#average of temps before and after missing value\n",
    "\n",
    "temperatures_C[temperatures_C.index(0)] = int ( (temperatures_C[temperatures_C.index(0) - 1] + temperatures_C[temperatures_C.index(0) + 1]) / 2)\n",
    "print(temperatures_C)\n",
    "\n"
   ]
  },
  {
   "cell_type": "markdown",
   "metadata": {},
   "source": [
    "#### 6. Bonus: the maintenance staff is from the United States and does not understand the international metric system. Help them by converting the temperatures from Celsius to Fahrenheit.\n",
    "To know more about temperature conversion check this [link](https://en.wikipedia.org/wiki/Conversion_of_units_of_temperature).\n",
    "\n",
    "**Formula**: \n",
    "\n",
    "$F = 1.8 * C + 32$"
   ]
  },
  {
   "cell_type": "code",
   "execution_count": 100,
   "metadata": {},
   "outputs": [
    {
     "name": "stdout",
     "output_type": "stream",
     "text": [
      "[91, 150, 149, 143, 138, 140, 143, 147, 158, 168, 176, 177, 176, 181, 194, 174, 141, 127, 122, 120, 127, 118, 113, 102]\n"
     ]
    }
   ],
   "source": [
    "temperatures_F = []\n",
    "\n",
    "for i in temperatures_C:\n",
    "    temperatures_F.append(int((1.8 * i) + 32))\n",
    "\n",
    "print(temperatures_F)"
   ]
  },
  {
   "cell_type": "markdown",
   "metadata": {},
   "source": [
    "#### 7. Make a decision!\n",
    "Now it's time to make a decision taking into account what you have seen until now. \n",
    "\n",
    "Remember that if one of the following events occurs, then the cooling system needs to be replaced for a new one to avoid damaging the processor.\n",
    "* More than 4 temperatures are greater than or equal to 70ºC.\n",
    "* Any temperature is above 80ºC.\n",
    "* The average temperature exceeds 65ºC.\n",
    "\n",
    "#### To make your decision, check if any of the three conditions above is met. You might need to use some of the variables you created in steps 1 to 6. Print a message to show if the cooling system needs to be changed or not."
   ]
  },
  {
   "cell_type": "code",
   "execution_count": 105,
   "metadata": {},
   "outputs": [
    {
     "name": "stdout",
     "output_type": "stream",
     "text": [
      "The processor REALLY REALLY needs to be replaced.\n"
     ]
    }
   ],
   "source": [
    "Above70occurence = 0\n",
    "need_to_replace = 0\n",
    "sum_temps = 0\n",
    "import statistics\n",
    "\n",
    "#number of temps over 70\n",
    "for i in temperatures_C:\n",
    "    #sum_temps += i\n",
    "    if i >= 70:\n",
    "        Above70occurence += 1\n",
    "\n",
    "if Above70occurence > 4:\n",
    "    need_to_replace += 1\n",
    "\n",
    "#if max temp gets over 80\n",
    "if max(temperatures_C) > 80:\n",
    "    need_to_replace += 1\n",
    "\n",
    "#average exceeds 65c\n",
    "if ( statistics.mean(temperatures_C)) > 65:\n",
    "    need_to_replace += 1\n",
    "\n",
    "if need_to_replace == 1:\n",
    "    print(\"The processor needs to be replaced.\")\n",
    "elif need_to_replace >= 2:\n",
    "    print(\"The processor \" + (\"REALLY \" * need_to_replace) + \"needs to be replaced.\")\n",
    "else:\n",
    "    print(\"The process does NOT need to be replaced\")"
   ]
  },
  {
   "cell_type": "markdown",
   "metadata": {},
   "source": [
    "## Bonus\n",
    "\n",
    "The company has decided that the decision you made is not valid. They want you to analyze the data again but this time, the conditions that need to be met in order to change the cooling system are different.\n",
    "\n",
    "This time, if one of the following events occurs, then the cooling system needs to be replaced:\n",
    "* The temperature is greater than 70ºC during more than 4 consecutive hours.\n",
    "* Any temperature is above 80ºC.\n",
    "* The average temperature exceeds 65ºC.\n",
    "\n",
    "Follow the steps so that you can make the decision.\n",
    "\n",
    "#### 1. Create a list with the hours where the temperature is greater than 70ºC. Store it in a variable."
   ]
  },
  {
   "cell_type": "code",
   "execution_count": 113,
   "metadata": {},
   "outputs": [
    {
     "name": "stdout",
     "output_type": "stream",
     "text": [
      "[9, 10, 11, 12, 13, 14, 15]\n"
     ]
    }
   ],
   "source": [
    "times_above_70 = []\n",
    "hours = 0\n",
    "for i in temperatures_C:\n",
    "    if i > 70:\n",
    "        times_above_70.append(hours)\n",
    "    hours += 1\n",
    "    \n",
    "print(times_above_70)"
   ]
  },
  {
   "cell_type": "markdown",
   "metadata": {},
   "source": [
    "#### 2. Check if the list you created in step 1 has more than 4 consecutive hours. "
   ]
  },
  {
   "cell_type": "code",
   "execution_count": 139,
   "metadata": {},
   "outputs": [
    {
     "name": "stdout",
     "output_type": "stream",
     "text": [
      "There ARE more than 4 consecutive hours. There are 6 consecutive hours\n"
     ]
    }
   ],
   "source": [
    "count=0\n",
    "\n",
    "for i in range(len(times_above_70[:-1])):\n",
    "    if times_above_70[i]+1 == times_above_70[i+1]:\n",
    "        count+=1\n",
    "\n",
    "if count > 4:\n",
    "    print(\"There ARE more than 4 consecutive hours. There are %s consecutive hours\" % count)\n",
    "else:\n",
    "    print(\"There are NOT more than 4 consecutive hours\")  \n"
   ]
  },
  {
   "cell_type": "markdown",
   "metadata": {},
   "source": [
    "#### 3. Make the decision!\n",
    "To make your decision, check if any of the three conditions is met. Print a message to show if the cooling system needs to be changed or not."
   ]
  },
  {
   "cell_type": "code",
   "execution_count": 140,
   "metadata": {},
   "outputs": [
    {
     "name": "stdout",
     "output_type": "stream",
     "text": [
      "The processor REALLY REALLY needs to be replaced.\n"
     ]
    }
   ],
   "source": [
    "need_to_replace = 0\n",
    "sum_temps = 0\n",
    "import statistics\n",
    "\n",
    "#temp over 70 for more than 4 consec hours\n",
    "if count > 4:\n",
    "    need_to_replace += 1\n",
    "\n",
    "#if max temp gets over 80\n",
    "if max(temperatures_C) > 80:\n",
    "    need_to_replace += 1\n",
    "\n",
    "#average exceeds 65c\n",
    "if ( statistics.mean(temperatures_C)) > 65:\n",
    "    need_to_replace += 1\n",
    "\n",
    "if need_to_replace == 1:\n",
    "    print(\"The processor needs to be replaced.\")\n",
    "elif need_to_replace >= 2:\n",
    "    print(\"The processor \" + (\"REALLY \" * need_to_replace) + \"needs to be replaced.\")\n",
    "else:\n",
    "    print(\"The process does NOT need to be replaced\")"
   ]
  },
  {
   "cell_type": "markdown",
   "metadata": {},
   "source": [
    "#### 4. Find the average value of the temperature lists (ºC and ºF). What is the relation between both average values?"
   ]
  },
  {
   "cell_type": "code",
   "execution_count": 155,
   "metadata": {},
   "outputs": [
    {
     "name": "stdout",
     "output_type": "stream",
     "text": [
      "The average temperature in C is 62.8\n",
      "The average temperature in F (calculated by converting C -> F) is 145.10\n",
      "The average temperature in F (calculated averaging F from Q6 above) is 144.79\n",
      "Therefore there is a variane of 0.31 between the average F temps.\n"
     ]
    }
   ],
   "source": [
    "import statistics\n",
    "#Avg of temp_C\n",
    "cum_temp_C = 0\n",
    "\n",
    "for i in temperatures_C:\n",
    "    cum_temp_C += i\n",
    "Average_C = cum_temp_C / len(temperatures_C)\n",
    "print(\"The average temperature in C is %.1f\" % float(Average_C))\n",
    "\n",
    "print(\"The average temperature in F (calculated by converting C -> F) is %.2f\" % ((1.8 * Average_C) + 32))\n",
    "print(\"The average temperature in F (calculated averaging F from Q6 above) is %.2f\" % statistics.mean(temperatures_F))\n",
    "print(\"Therefore there is a variane of %.2f between the average F temps.\" % (((1.8 * Average_C) + 32) - statistics.mean(temperatures_F) ))\n",
    "\n",
    "#relationship is C * 1.8 then add 32"
   ]
  },
  {
   "cell_type": "markdown",
   "metadata": {},
   "source": [
    "#### 5. Find the standard deviation of the temperature lists (ºC and ºF). What is the relation between both standard deviations?"
   ]
  },
  {
   "cell_type": "code",
   "execution_count": 166,
   "metadata": {},
   "outputs": [
    {
     "name": "stdout",
     "output_type": "stream",
     "text": [
      "The Std Dev of C is 14.95\n",
      "The Std Dev of F (calculated by converting C value above -> F) is 58.91\n",
      "The Std Dev of F (calculated averaging F from Q6 above) is 26.90\n"
     ]
    }
   ],
   "source": [
    "print(\"The Std Dev of C is %.2f\" % float(statistics.stdev(temperatures_C)))\n",
    "stdev_c = (((statistics.stdev(temperatures_C)) * 1.8)+32)\n",
    "\n",
    "#value below is incorrect\n",
    "print(\"The Std Dev of F (calculated by converting C value above -> F) is %.2f\" % stdev_c)\n",
    "\n",
    "#this value is correct\n",
    "print(\"The Std Dev of F (calculated averaging F from Q6 above) is %.2f\" % float(statistics.stdev(temperatures_F)))"
   ]
  },
  {
   "cell_type": "code",
   "execution_count": null,
   "metadata": {},
   "outputs": [],
   "source": [
    "\n",
    "\n"
   ]
  }
 ],
 "metadata": {
  "kernelspec": {
   "display_name": "Python 3",
   "language": "python",
   "name": "python3"
  },
  "language_info": {
   "codemirror_mode": {
    "name": "ipython",
    "version": 3
   },
   "file_extension": ".py",
   "mimetype": "text/x-python",
   "name": "python",
   "nbconvert_exporter": "python",
   "pygments_lexer": "ipython3",
   "version": "3.7.3"
  }
 },
 "nbformat": 4,
 "nbformat_minor": 2
}
