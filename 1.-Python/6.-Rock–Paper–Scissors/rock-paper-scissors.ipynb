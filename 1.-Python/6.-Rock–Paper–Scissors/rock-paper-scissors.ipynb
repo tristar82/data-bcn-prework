{
 "cells": [
  {
   "cell_type": "markdown",
   "metadata": {},
   "source": [
    "<img src=\"https://bit.ly/2VnXWr2\" width=\"100\" align=\"left\">"
   ]
  },
  {
   "cell_type": "markdown",
   "metadata": {},
   "source": [
    "# Rock, Paper & Scissors\n",
    "\n",
    "Let's play the famous game against our computer. You can check the rules [here](https://en.wikipedia.org/wiki/Rock%E2%80%93paper%E2%80%93scissors). \n",
    "\n",
    "## Task\n",
    "Create a program that imitates the playability of the well known game of rock, paper, scissors. Follow the guidelines provided.\n",
    "\n",
    "## Tools\n",
    "1. Loop: **for/while**\n",
    "2. Functions: **input(), print()...**\n",
    "3. Conditional statements: **if, elif, else**\n",
    "4. Definition of functions. Modular programming\n",
    "5. Import modules\n",
    "\n",
    "**To solve this challenge, the use of functions is recommended.**\n",
    "\n",
    "#### 1. Import the choice function of the random module."
   ]
  },
  {
   "cell_type": "code",
   "execution_count": 1,
   "metadata": {},
   "outputs": [],
   "source": [
    "import random"
   ]
  },
  {
   "cell_type": "markdown",
   "metadata": {},
   "source": [
    "#### 2. Create a list that includes the 3 possible gesture options of the game: 'rock', 'paper' or 'scissors'. Store the list in a variable called `gestures`."
   ]
  },
  {
   "cell_type": "code",
   "execution_count": 2,
   "metadata": {},
   "outputs": [],
   "source": [
    "#For original\n",
    "gestures = ['rock', 'paper' , 'scissors', ]\n",
    "\n",
    "#For RPSSL\n",
    "gestures_2 = ['rock', 'paper' , 'scissors', 'spock','lizard']"
   ]
  },
  {
   "cell_type": "markdown",
   "metadata": {},
   "source": [
    "#### 3. Create a variable called `n_rounds` to store the maximum number of rounds to play in a game. \n",
    "Remember that the number of rounds must be odd: 1, 3, 5, ..."
   ]
  },
  {
   "cell_type": "code",
   "execution_count": 3,
   "metadata": {},
   "outputs": [
    {
     "name": "stdout",
     "output_type": "stream",
     "text": [
      "How many rounds do you want to play? Remember that the number of rounds must be odd: 5\n",
      "5 round(s) it is. GOOD LUCK!\n"
     ]
    }
   ],
   "source": [
    "while True:\n",
    "\n",
    "    n_rounds = input('How many rounds do you want to play? Remember that the number of rounds must be odd: ')\n",
    "\n",
    "    try:\n",
    "       val = int(n_rounds)\n",
    "    except ValueError:\n",
    "        print(\"That's not a number!\")\n",
    "        n_rounds = input('How many rounds do you want to play? Remember that the number of rounds must be odd: ')\n",
    "            \n",
    "    if int(n_rounds) % 2 != 0:\n",
    "        print('%s round(s) it is. GOOD LUCK!' % n_rounds)\n",
    "        break\n",
    "        \n",
    "    else:\n",
    "        print('Try again, silly. %s is an even number.' % n_rounds)\n",
    "        continue \n"
   ]
  },
  {
   "cell_type": "markdown",
   "metadata": {},
   "source": [
    "#### 4. Create a variable called `rounds_to_win` to store the number of rounds that a player must win to win the game.\n",
    "**Hint**: the value stored in `rounds_to_win` depends on the value of `n_rounds`. "
   ]
  },
  {
   "cell_type": "code",
   "execution_count": 4,
   "metadata": {},
   "outputs": [],
   "source": [
    "import math\n",
    "rounds_to_win = math.ceil((int(n_rounds)/2))\n",
    "\n",
    "#for RPSSL\n",
    "rounds_to_win_2 = math.ceil((int(n_rounds)/2))"
   ]
  },
  {
   "cell_type": "markdown",
   "metadata": {},
   "source": [
    "#### 5. Create two variables to store the number of rounds that the computer and the player have won. Call these variables `cpu_score` and `player_score`."
   ]
  },
  {
   "cell_type": "code",
   "execution_count": 5,
   "metadata": {},
   "outputs": [],
   "source": [
    "cpu_score = 0\n",
    "player_score = 0"
   ]
  },
  {
   "cell_type": "markdown",
   "metadata": {},
   "source": [
    "#### 6. Define a function that randomly returns one of the 3 gesture options.\n",
    "You will use this function to simulate the gesture choice of the computer. "
   ]
  },
  {
   "cell_type": "code",
   "execution_count": 6,
   "metadata": {},
   "outputs": [],
   "source": [
    "#For original game\n",
    "def cpu_gesture_func():\n",
    "    return gestures[random.randint(0,2)]\n",
    "\n",
    "#For rock, paper, scissors, lizard, spock\n",
    "def cpu_gesture_func_2():\n",
    "    return gestures_2[random.randint(0,4)]\n"
   ]
  },
  {
   "cell_type": "markdown",
   "metadata": {},
   "source": [
    "#### 7. Define a function that asks the player which is the gesture he or she wants to show: 'rock', 'paper' or 'scissors'.\n",
    "The player should only be allowed to choose one of the 3 gesture options. If the player's choice is not rock, paper or scissors, keep asking until it is."
   ]
  },
  {
   "cell_type": "code",
   "execution_count": 7,
   "metadata": {},
   "outputs": [],
   "source": [
    "#Original\n",
    "def player_gesture_entry_func():\n",
    "    global player_gesture_var\n",
    "    while True:\n",
    "        player_gesture_var = input(\"What's it going to be? (rock, paper or scissors): \")\n",
    "        if player_gesture_var not in str(gestures):\n",
    "            continue\n",
    "        else:\n",
    "            break\n",
    "    return player_gesture_var\n",
    "    \n",
    "\n",
    "#RPSSL\n",
    "def player_gesture_entry_func_2(): \n",
    "    global player_gesture_var_2\n",
    "    while True:\n",
    "        player_gesture_var_2 = input(\"What's it going to be? (rock, paper, scissors, spock, lizard): \")\n",
    "        if player_gesture_var_2 not in str(gestures_2):\n",
    "            continue\n",
    "        else:\n",
    "            break\n",
    "    return player_gesture_var_2\n"
   ]
  },
  {
   "cell_type": "markdown",
   "metadata": {},
   "source": [
    "#### 8. Define a function that checks who won a round. \n",
    "The function should return 0 if there is a tie, 1 if the computer wins and 2 if the player wins."
   ]
  },
  {
   "cell_type": "code",
   "execution_count": 8,
   "metadata": {},
   "outputs": [],
   "source": [
    "def who_won_round_func(player_gesture_var, cpu_gest_var):\n",
    "    if player_gesture_var == gestures[0]:    #rock\n",
    "        if cpu_gest_var == gestures[0]:    #rock\n",
    "            return 0\n",
    "        elif cpu_gest_var == gestures[1]:    #paper\n",
    "            return 1\n",
    "        elif cpu_gest_var == gestures[2]:    #scissors\n",
    "            return 2\n",
    "        \n",
    "    elif player_gesture_var == gestures[1]:    #paper\n",
    "        if cpu_gest_var == gestures[0]:    #rock\n",
    "            return 2\n",
    "        elif cpu_gest_var == gestures[1]:    #paper\n",
    "            return 0\n",
    "        elif cpu_gest_var == gestures[2]:    #scissors\n",
    "            return 1\n",
    "        \n",
    "    elif player_gesture_var == gestures[2]:    #scissors\n",
    "        if cpu_gest_var == gestures[0]:    #rock\n",
    "            return 1\n",
    "        elif cpu_gest_var == gestures[1]:    #paper\n",
    "            return 2\n",
    "        elif cpu_gest_var == gestures[2]:    #scissors\n",
    "            return 0\n"
   ]
  },
  {
   "cell_type": "markdown",
   "metadata": {},
   "source": [
    "#### 9. Define a function that prints the choice of the computer, the choice of the player and a message that announces who won the current round. \n",
    "You should also use this function to update the variables that count the number of rounds that the computer and the player have won. The score of the winner increases by one point. If there is a tie, the score does not increase."
   ]
  },
  {
   "cell_type": "code",
   "execution_count": 9,
   "metadata": {},
   "outputs": [],
   "source": [
    "def winner_current_round_func(): \n",
    "    global cpu_score\n",
    "    global player_score\n",
    "    player_gesture_var = player_gesture_entry_func()\n",
    "    cpu_gest_var = cpu_gesture_func()\n",
    "    winner_code_var = who_won_round_func(player_gesture_var, cpu_gest_var)\n",
    "    print(\"The player has chosen = %s\" % str(player_gesture_var))\n",
    "    print(\"The computer has chosen = %s\" % str(cpu_gest_var))\n",
    "    if winner_code_var == 1:\n",
    "        print(\"The COMPUTER won this round\")\n",
    "        cpu_score += 1\n",
    "    elif winner_code_var == 2:\n",
    "        print(\"The PLAYER won this round\")\n",
    "        player_score += 1\n",
    "    else:\n",
    "        print(\"It was a tie\")\n",
    "        \n",
    "        \n",
    "#RPSSL\n",
    "def winner_current_round_func_2(): \n",
    "    global cpu_score_2\n",
    "    global player_score_2\n",
    "    player_gesture_var_2 = player_gesture_entry_func_2()\n",
    "    cpu_gest_var_2 = cpu_gesture_func_2()\n",
    "    winner_code_var_2 = who_won_round_func_2(player_gesture_var_2, cpu_gest_var_2)\n",
    "    print(\"The player has chosen = %s\" % str(player_gesture_var_2))\n",
    "    print(\"The computer has chosen = %s\" % str(cpu_gest_var_2))\n",
    "    if winner_code_var_2 == 1:\n",
    "        print(\"The COMPUTER won this round\")\n",
    "        cpu_score_2 += 1\n",
    "    elif winner_code_var_2 == 2:\n",
    "        print(\"The PLAYER won this round\")\n",
    "        player_score_2 += 1\n",
    "    else:\n",
    "        print(\"It was a tie\")"
   ]
  },
  {
   "cell_type": "markdown",
   "metadata": {},
   "source": [
    "#### 10. Now it's time to code the execution of the game using the functions and variables you defined above. \n",
    "\n",
    "First, create a loop structure that repeats while no player reaches the minimum score necessary to win and the number of rounds is less than the maximum number of rounds to play in a game.  \n",
    "\n",
    "Inside the loop, use the functions and variables above to create the execution of a round: ask for the player's choice, generate the random choice of the computer, show the round results, update the scores, etc. "
   ]
  },
  {
   "cell_type": "code",
   "execution_count": 10,
   "metadata": {},
   "outputs": [
    {
     "name": "stdout",
     "output_type": "stream",
     "text": [
      "What's it going to be? (rock, paper or scissors): rock\n",
      "The player has chosen = rock\n",
      "The computer has chosen = scissors\n",
      "The PLAYER won this round\n",
      "0\n",
      "1\n",
      "What's it going to be? (rock, paper or scissors): rock\n",
      "The player has chosen = rock\n",
      "The computer has chosen = scissors\n",
      "The PLAYER won this round\n",
      "0\n",
      "2\n",
      "What's it going to be? (rock, paper or scissors): rock\n",
      "The player has chosen = rock\n",
      "The computer has chosen = rock\n",
      "It was a tie\n",
      "0\n",
      "2\n",
      "What's it going to be? (rock, paper or scissors): rock\n",
      "The player has chosen = rock\n",
      "The computer has chosen = paper\n",
      "The COMPUTER won this round\n",
      "1\n",
      "2\n",
      "What's it going to be? (rock, paper or scissors): rock\n",
      "The player has chosen = rock\n",
      "The computer has chosen = scissors\n",
      "The PLAYER won this round\n",
      "1\n",
      "3\n"
     ]
    }
   ],
   "source": [
    "#1. ask how many rounds - done above\n",
    "#2. determine how many rounds must be won in order to get an overall win\n",
    "#3. Set up a loop so you'll keep playing until someone has won the overall game...\n",
    "\n",
    "while cpu_score < rounds_to_win and player_score < rounds_to_win:\n",
    "    winner_current_round_func()\n",
    "    print(cpu_score)\n",
    "    print(player_score)\n"
   ]
  },
  {
   "cell_type": "raw",
   "metadata": {},
   "source": [
    "#### 11. Print the winner of the game based on who won more rounds.\n",
    "Remember that the game might be tied. "
   ]
  },
  {
   "cell_type": "code",
   "execution_count": 12,
   "metadata": {},
   "outputs": [
    {
     "name": "stdout",
     "output_type": "stream",
     "text": [
      "its a tie\n"
     ]
    }
   ],
   "source": [
    "#original\n",
    "if cpu_score > player_score:\n",
    "    print(\"Computer won\")\n",
    "elif cpu_score < player_score:\n",
    "    print(\"Player won\")\n",
    "elif cpu_score == player_score:\n",
    "    print(\"its a tie\")\n",
    "else:\n",
    "    print(\"Something ain't right!\")\n"
   ]
  },
  {
   "cell_type": "markdown",
   "metadata": {},
   "source": [
    "# Bonus: Rock, Paper, Scissors, Lizard & Spock\n",
    "![](images/rpsls.jpg)\n",
    "\n",
    "In this challenge, you need to improve the previous game by adding two new options. To know more about the rules of the improved version of rock, paper, scissors, check this [link](http://www.samkass.com/theories/RPSSL.html). \n",
    "\n",
    "In addition, you will also need to improve how the game interacts with the player: the number of rounds to play, which must be an odd number, will be requested to the user until a valid number is entered. Define a new function to make that request.\n",
    "\n",
    "**Hint**: Try to reuse the code that you already coded in the previous challenge. If your code is efficient, this bonus will only consist of simple modifications to the original game."
   ]
  },
  {
   "cell_type": "code",
   "execution_count": 11,
   "metadata": {},
   "outputs": [
    {
     "name": "stdout",
     "output_type": "stream",
     "text": [
      "What's it going to be? (rock, paper, scissors, spock, lizard): rock\n",
      "The player has chosen = rock\n",
      "The computer has chosen = rock\n",
      "It was a tie\n",
      "0\n",
      "0\n",
      "What's it going to be? (rock, paper, scissors, spock, lizard): rock\n",
      "The player has chosen = rock\n",
      "The computer has chosen = scissors\n",
      "The PLAYER won this round\n",
      "0\n",
      "1\n",
      "What's it going to be? (rock, paper, scissors, spock, lizard): rock\n",
      "The player has chosen = rock\n",
      "The computer has chosen = scissors\n",
      "The PLAYER won this round\n",
      "0\n",
      "2\n",
      "What's it going to be? (rock, paper, scissors, spock, lizard): rock\n",
      "The player has chosen = rock\n",
      "The computer has chosen = rock\n",
      "It was a tie\n",
      "0\n",
      "2\n",
      "What's it going to be? (rock, paper, scissors, spock, lizard): lizard\n",
      "The player has chosen = lizard\n",
      "The computer has chosen = lizard\n",
      "It was a tie\n",
      "0\n",
      "2\n",
      "What's it going to be? (rock, paper, scissors, spock, lizard): spock\n",
      "The player has chosen = spock\n",
      "The computer has chosen = rock\n",
      "The PLAYER won this round\n",
      "0\n",
      "3\n",
      "You won\n"
     ]
    }
   ],
   "source": [
    "cpu_score_2 = 0\n",
    "player_score_2 = 0\n",
    "\n",
    "\n",
    "\n",
    "#new matrix to find the WINNER CODE for new game.\n",
    "def who_won_round_func_2(player_gesture_var_2, cpu_gest_var_2):\n",
    "    if player_gesture_var_2 == gestures_2[0]:    #rock\n",
    "        if cpu_gest_var_2 == gestures_2[0]:    #rock\n",
    "            return 0\n",
    "        elif cpu_gest_var_2 == gestures_2[1]:    #paper\n",
    "            return 1\n",
    "        elif cpu_gest_var_2 == gestures_2[2]:    #scissors\n",
    "            return 2\n",
    "        elif cpu_gest_var_2 == gestures_2[3]:    #spock\n",
    "            return 1\n",
    "        elif cpu_gest_var_2 == gestures_2[4]:    #lizard\n",
    "            return 2\n",
    "        \n",
    "        \n",
    "    elif player_gesture_var_2 == gestures_2[1]:    #paper\n",
    "        if cpu_gest_var_2 == gestures_2[0]:    #rock\n",
    "            return 2\n",
    "        elif cpu_gest_var_2 == gestures_2[1]:    #paper\n",
    "            return 0\n",
    "        elif cpu_gest_var_2 == gestures_2[2]:    #scissors\n",
    "            return 1\n",
    "        elif cpu_gest_var_2 == gestures_2[3]:    #spock\n",
    "            return 2\n",
    "        elif cpu_gest_var_2 == gestures_2[4]:    #lizard\n",
    "            return 1\n",
    "        \n",
    "    elif player_gesture_var_2 == gestures_2[2]:    #scissors\n",
    "        if cpu_gest_var_2 == gestures_2[0]:    #rock\n",
    "            return 1\n",
    "        elif cpu_gest_var_2 == gestures_2[1]:    #paper\n",
    "            return 2\n",
    "        elif cpu_gest_var_2 == gestures_2[2]:    #scissors\n",
    "            return 0\n",
    "        elif cpu_gest_var_2 == gestures_2[3]:    #spock\n",
    "            return 1\n",
    "        elif cpu_gest_var_2 == gestures_2[4]:    #lizard\n",
    "            return 2\n",
    "\n",
    "\n",
    "        \n",
    "        \n",
    "    elif player_gesture_var_2 == gestures_2[3]:    #spock\n",
    "        if cpu_gest_var_2 == gestures_2[0]:    #rock\n",
    "            return 2\n",
    "        elif cpu_gest_var_2 == gestures_2[1]:    #paper\n",
    "            return 1\n",
    "        elif cpu_gest_var_2 == gestures_2[2]:    #scissors\n",
    "            return 2\n",
    "        elif cpu_gest_var_2 == gestures_2[3]:    #spock\n",
    "            return 0\n",
    "        elif cpu_gest_var_2 == gestures_2[4]:    #lizard\n",
    "            return 1\n",
    "        \n",
    "    elif player_gesture_var_2 == gestures_2[4]:    #lizard\n",
    "        if cpu_gest_var_2 == gestures_2[0]:    #rock\n",
    "            return 1\n",
    "        elif cpu_gest_var_2 == gestures_2[1]:    #paper\n",
    "            return 2\n",
    "        elif cpu_gest_var_2 == gestures_2[2]:    #scissors\n",
    "            return 1\n",
    "        elif cpu_gest_var_2 == gestures_2[3]:    #spock\n",
    "            return 2\n",
    "        elif cpu_gest_var_2 == gestures_2[4]:    #lizard\n",
    "            return 0        \n",
    "        \n",
    "        \n",
    "\n",
    "#######\n",
    "\n",
    "while cpu_score_2 < rounds_to_win_2 and player_score_2 < rounds_to_win_2:\n",
    "    winner_current_round_func_2()\n",
    "    print(cpu_score_2)\n",
    "    print(player_score_2)\n",
    "\n",
    "    \n",
    "    \n",
    "    \n",
    "\n",
    "#last thing to be done!\n",
    "\n",
    "\n",
    "if cpu_score_2 > player_score_2:\n",
    "    print(\"Computer won\")\n",
    "elif cpu_score_2 < player_score_2:\n",
    "    print(\"Player won\")\n",
    "elif cpu_score_2 == player_score_2:\n",
    "    print(\"its a tie\")\n",
    "else:\n",
    "    print(\"Something ain't right!\")"
   ]
  },
  {
   "cell_type": "raw",
   "metadata": {},
   "source": []
  }
 ],
 "metadata": {
  "kernelspec": {
   "display_name": "Python 3",
   "language": "python",
   "name": "python3"
  },
  "language_info": {
   "codemirror_mode": {
    "name": "ipython",
    "version": 3
   },
   "file_extension": ".py",
   "mimetype": "text/x-python",
   "name": "python",
   "nbconvert_exporter": "python",
   "pygments_lexer": "ipython3",
   "version": "3.7.3"
  }
 },
 "nbformat": 4,
 "nbformat_minor": 2
}
