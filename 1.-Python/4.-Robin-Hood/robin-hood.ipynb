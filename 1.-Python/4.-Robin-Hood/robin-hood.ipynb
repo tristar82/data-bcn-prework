{
 "cells": [
  {
   "cell_type": "markdown",
   "metadata": {},
   "source": [
    "<img src=\"https://bit.ly/2VnXWr2\" width=\"100\" align=\"left\"/>"
   ]
  },
  {
   "cell_type": "markdown",
   "metadata": {},
   "source": [
    "# Robin Hood\n",
    "Robin Hood has entered a competition to win the archery contest in Sherwood. With his bow and arrows, he needs to shoot on a target and try to hit as close as possible to the center.\n",
    "\n",
    "![](images/arrows.jpg)\n",
    "\n",
    "## Context\n",
    "In this challenge, the landing position of arrows shot by archers in the competition will be represented using 2-dimensional coordinates. \n",
    "\n",
    "In the 2-dimensional space, a point can be defined by a pair of values that correspond to the horizontal coordinate (x) and the vertical coordinate (y). For example, in our case, an arrow that hits the center of the archery target will land in position (0, 0) on the coordinate axes. \n",
    "\n",
    "The space can be divided into 4 zones (quadrants): Q1, Q2, Q3, Q4. If a point is in Q1, both its x coordinate and y coordinate are positive. Any point with a null x or y coordinate is considered to not belong to any quadrant. \n",
    "\n",
    "If you want to know more about the cartesian coordinate system, you can check this [link](https://en.wikipedia.org/wiki/Cartesian_coordinate_system). \n",
    "\n",
    "## Tools\n",
    "You don't necessarily need to use all the tools. Maybe you opt to use some of them or completely different ones, they are given to help you shape the exercise. Programming exercises can be solved in many different ways.\n",
    "* Data structures: **lists, sets, tuples**\n",
    "* Conditional statements: **if-elif-else**\n",
    "* Loop: **while/for**\n",
    "* Minimum (optional sorting)\n",
    "\n",
    "## Tasks\n",
    "Robin Hood has hit the following points:"
   ]
  },
  {
   "cell_type": "code",
   "execution_count": 48,
   "metadata": {},
   "outputs": [],
   "source": [
    "points = [(4, 5), (-0, 2), (4, 7), (1, -3), (3, -2), (4, 5), (3, 2), (5, 7), (-5, 7), (2, 2), (-4, 5), (0, -2),\n",
    "          (-4, 7), (-1, 3), (-3, 2), (-4, -5), (-3, 2), (5, 7), (5, 7), (2, 2), (9, 9), (-8, -9)]"
   ]
  },
  {
   "cell_type": "markdown",
   "metadata": {},
   "source": [
    "#### 1. Robin Hood is famous for hitting an arrow with another arrow. Find the coordinates of the points where an arrow hits another arrow."
   ]
  },
  {
   "cell_type": "code",
   "execution_count": 124,
   "metadata": {},
   "outputs": [
    {
     "name": "stdout",
     "output_type": "stream",
     "text": [
      "[(4, 5), (5, 7), (2, 2), (-3, 2)]\n"
     ]
    }
   ],
   "source": [
    "double_strike = []\n",
    "\n",
    "for i in points:\n",
    "    if points.count(i) > 1:\n",
    "        if i not in double_strike:\n",
    "            double_strike.append(i)\n",
    "\n",
    "print (double_strike)"
   ]
  },
  {
   "cell_type": "markdown",
   "metadata": {},
   "source": [
    "#### 2. Calculate how many arrows have fallen in each quadrant. \n",
    "**Note**: the arrows that fall in the axis (x=0 or y=0) don't belong to any quadrant."
   ]
  },
  {
   "cell_type": "code",
   "execution_count": 123,
   "metadata": {},
   "outputs": [
    {
     "name": "stdout",
     "output_type": "stream",
     "text": [
      "Counter({'1': 10, '2': 6, '0': 2, '4': 2, '3': 2})\n",
      "There are 10 arrows in Q1;\n",
      "There are 6 arrows in Q2;\n",
      "There are 2 arrows in Q3;\n",
      "There are 2 arrows in Q4 and\n",
      "There are 2 arrows that aren't in any quadrant.\n"
     ]
    }
   ],
   "source": [
    "#have incorperated two ways to count below.... one using counter the other counting each occurence in each quad\n",
    "counter = 0\n",
    "#this list is to use counter\n",
    "quad = []\n",
    "# below refers to second method\n",
    "no_quad = 0\n",
    "quad_1 = 0\n",
    "quad_2 = 0\n",
    "quad_3 = 0\n",
    "quad_4 = 0\n",
    "\n",
    "for i in points:\n",
    "    x = int(points[counter][0])\n",
    "    y = int(points[counter][1])\n",
    "    if x > 0 and y > 0:      #x+ y+\n",
    "        quad.append(\"1\")\n",
    "        quad_1 += 1\n",
    "    \n",
    "    elif x < 0 and y > 0:    #x- y+\n",
    "        quad.append(\"2\")\n",
    "        quad_2 += 1\n",
    "    \n",
    "    elif x < 0 and y < 0:    #x- y-\n",
    "        quad.append(\"3\")\n",
    "        quad_3 += 1\n",
    "    \n",
    "    elif x > 0 and y < 0:    #x+ y-\n",
    "        quad.append(\"4\")\n",
    "        quad_4 += 1\n",
    "    \n",
    "    else:\n",
    "        quad.append(\"0\")\n",
    "        no_quad += 1\n",
    "    counter += 1\n",
    "\n",
    "from collections import Counter\n",
    "#quad.sort()\n",
    "print(Counter(quad))\n",
    "\n",
    "#or...\n",
    "print(\"There are %s arrows in Q1;\" % quad_1)\n",
    "print(\"There are %s arrows in Q2;\" % quad_2)\n",
    "print(\"There are %s arrows in Q3;\" % quad_3)\n",
    "print(\"There are %s arrows in Q4 and\" % quad_4)\n",
    "print(\"There are %s arrows that aren't in any quadrant.\" % (no_quad))\n"
   ]
  },
  {
   "cell_type": "markdown",
   "metadata": {},
   "source": [
    "#### 3. Find the point closest to the center. Calculate its distance to the center. \n",
    "Take into account that there might be more than one point at the minimum distance to the center.\n",
    "\n",
    "**Hint**: Use the Euclidean distance. You can find more information about it [here](https://en.wikipedia.org/wiki/Euclidean_distance).  \n",
    "**Hint**: Defining a function that calculates the distance to the center can help."
   ]
  },
  {
   "cell_type": "code",
   "execution_count": 122,
   "metadata": {},
   "outputs": [
    {
     "name": "stdout",
     "output_type": "stream",
     "text": [
      "The shortest distance is 2.0\n",
      "The following coords share the shortest distance (also listed):\n",
      "(2.0, (0, 2))\n",
      "(2.0, (0, -2))\n"
     ]
    }
   ],
   "source": [
    "counter = 0\n",
    "dist_by_coords = []\n",
    "eluci = 0\n",
    "min_distances = []\n",
    "counter_new = 0\n",
    "unique_distances = []\n",
    "counter2_new = 0\n",
    "\n",
    "def distance_from_bullseye(x,y):\n",
    "    return (((0-x)**2 + (0-y)**2 ) ** 0.5)\n",
    "\n",
    "for i in points:\n",
    "    eluci = distance_from_bullseye(int(points[counter][0]),int(points[counter][1]))\n",
    "    dist_by_coords.append((eluci,i))\n",
    "    counter += 1\n",
    "\n",
    "for i in dist_by_coords:\n",
    "    #print(dist_by_coords[counter_new][0])\n",
    "    if dist_by_coords[counter_new][0] not in unique_distances:\n",
    "        unique_distances.append(dist_by_coords[counter_new][0])\n",
    "    counter_new += 1\n",
    "\n",
    "print(\"The shortest distance is %s\" % min(unique_distances))\n",
    "\n",
    "##now return all values that meet that criteria\n",
    "print(\"The following coords share the shortest distance (also listed):\")\n",
    "for z in dist_by_coords:\n",
    "    if dist_by_coords[counter2_new][0] == min(unique_distances):\n",
    "        print(z)\n",
    "    counter2_new += 1"
   ]
  },
  {
   "cell_type": "markdown",
   "metadata": {},
   "source": [
    "#### 4. If the archery target has a radius of 9, calculate the number of arrows that won't hit the target. \n",
    "**Hint**: Use the function created in step 3. "
   ]
  },
  {
   "cell_type": "code",
   "execution_count": 73,
   "metadata": {},
   "outputs": [
    {
     "name": "stdout",
     "output_type": "stream",
     "text": [
      "2 arrows will not hit the target\n"
     ]
    }
   ],
   "source": [
    "wont_hit = 0\n",
    "counter = 0\n",
    "eluci = 0\n",
    "\n",
    "def distance_from_bullseye(x,y):\n",
    "    return (((0-x)**2 + (0-y)**2 ) ** 0.5)\n",
    "\n",
    "for i in points:\n",
    "    eluci = distance_from_bullseye(int(points[counter][0]),int(points[counter][1]))\n",
    "    if eluci > 9:\n",
    "        wont_hit += 1\n",
    "    counter += 1\n",
    "\n",
    "print(str(wont_hit)+\" arrows will not hit the target\")"
   ]
  },
  {
   "cell_type": "code",
   "execution_count": null,
   "metadata": {},
   "outputs": [],
   "source": []
  }
 ],
 "metadata": {
  "kernelspec": {
   "display_name": "Python 3",
   "language": "python",
   "name": "python3"
  },
  "language_info": {
   "codemirror_mode": {
    "name": "ipython",
    "version": 3
   },
   "file_extension": ".py",
   "mimetype": "text/x-python",
   "name": "python",
   "nbconvert_exporter": "python",
   "pygments_lexer": "ipython3",
   "version": "3.7.3"
  }
 },
 "nbformat": 4,
 "nbformat_minor": 2
}
